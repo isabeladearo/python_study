{
 "cells": [
  {
   "cell_type": "code",
   "execution_count": 85,
   "metadata": {},
   "outputs": [],
   "source": [
    "from selenium import webdriver\n",
    "\n",
    "driver = webdriver.Chrome()"
   ]
  },
  {
   "cell_type": "code",
   "execution_count": 86,
   "metadata": {},
   "outputs": [],
   "source": [
    "import os\n",
    "\n",
    "path = os.getcwd()\n",
    "file = 'pagina_hashtag.html'\n",
    "\n",
    "url = f'File://{path}/{file}'\n",
    "\n",
    "driver.get(url)"
   ]
  },
  {
   "cell_type": "code",
   "execution_count": 54,
   "metadata": {},
   "outputs": [],
   "source": [
    "from selenium.webdriver.common.by import By\n",
    "\n",
    "driver.find_element(By.ID, 'fullname').send_keys('fullname')\n",
    "driver.find_element(By.ID, 'email').send_keys('email@gmail.com')\n",
    "driver.find_element(By.ID, '_form_176_submit').click()"
   ]
  },
  {
   "cell_type": "code",
   "execution_count": 83,
   "metadata": {},
   "outputs": [],
   "source": [
    "driver.get(url)\n",
    "\n",
    "driver.find_element(By.CLASS_NAME, 'custom-logo').click()"
   ]
  },
  {
   "cell_type": "code",
   "execution_count": 59,
   "metadata": {},
   "outputs": [],
   "source": [
    "driver.get(url)\n",
    "\n",
    "driver.find_element(By.XPATH, '//*[@id=\"header\"]/div/div/div[1]/a/img').click()"
   ]
  },
  {
   "cell_type": "code",
   "execution_count": 60,
   "metadata": {},
   "outputs": [
    {
     "name": "stdout",
     "output_type": "stream",
     "text": [
      "Todos os Cursos da Hashtag Treinamentos\n"
     ]
    }
   ],
   "source": [
    "driver.get(url)\n",
    "\n",
    "text = driver.find_element(By.TAG_NAME, 'h2').text\n",
    "print(text)"
   ]
  },
  {
   "cell_type": "code",
   "execution_count": 62,
   "metadata": {},
   "outputs": [
    {
     "name": "stdout",
     "output_type": "stream",
     "text": [
      "(21) 99865-8852 (WhatsApp)\n"
     ]
    }
   ],
   "source": [
    "driver.get(url)\n",
    "\n",
    "whatsapp_number = driver.find_element(By.PARTIAL_LINK_TEXT, 'WhatsApp').text\n",
    "print(whatsapp_number)"
   ]
  },
  {
   "cell_type": "code",
   "execution_count": 63,
   "metadata": {},
   "outputs": [],
   "source": [
    "driver.get(url)\n",
    "\n",
    "driver.find_element(By.NAME, 'fullname').send_keys('fullname')"
   ]
  },
  {
   "cell_type": "code",
   "execution_count": 80,
   "metadata": {},
   "outputs": [],
   "source": [
    "driver.get(url)\n",
    "\n",
    "link_list = driver.find_elements(By.CLASS_NAME, 'nav-link')\n",
    "for link in link_list:\n",
    "    if 'blog' == link.text.lower():\n",
    "        link.click()\n",
    "        break"
   ]
  },
  {
   "cell_type": "code",
   "execution_count": 87,
   "metadata": {},
   "outputs": [
    {
     "name": "stdout",
     "output_type": "stream",
     "text": [
      "https://api.whatsapp.com/send?phone=5521998658852&text=Ol%C3%A1%2C%20gostaria%20de%20tirar%20uma%20d%C3%BAvida%20%20sobre%20o%20curso%20online\n"
     ]
    }
   ],
   "source": [
    "driver.get(url)\n",
    "\n",
    "link = driver.find_element(By.XPATH, '/html/body/footer/div/div[1]/div[2]/div/a[2]').get_attribute('href')\n",
    "print(link)"
   ]
  },
  {
   "cell_type": "code",
   "execution_count": 84,
   "metadata": {},
   "outputs": [],
   "source": [
    "driver.quit()"
   ]
  }
 ],
 "metadata": {
  "kernelspec": {
   "display_name": ".venv",
   "language": "python",
   "name": "python3"
  },
  "language_info": {
   "codemirror_mode": {
    "name": "ipython",
    "version": 3
   },
   "file_extension": ".py",
   "mimetype": "text/x-python",
   "name": "python",
   "nbconvert_exporter": "python",
   "pygments_lexer": "ipython3",
   "version": "3.9.6"
  },
  "orig_nbformat": 4
 },
 "nbformat": 4,
 "nbformat_minor": 2
}
