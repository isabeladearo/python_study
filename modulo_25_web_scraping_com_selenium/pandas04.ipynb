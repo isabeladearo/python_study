{
 "cells": [
  {
   "cell_type": "code",
   "execution_count": 7,
   "metadata": {},
   "outputs": [],
   "source": [
    "from selenium import webdriver\n",
    "from selenium.webdriver.common.by import By\n",
    "import os\n",
    "\n",
    "driver = webdriver.Chrome()\n",
    "\n",
    "path = os.getcwd()\n",
    "file = 'emissao_nota_fiscal/login.html'\n",
    "\n",
    "url = f'File://{path}/{file}'\n",
    "\n",
    "driver.get(url)"
   ]
  },
  {
   "cell_type": "code",
   "execution_count": 9,
   "metadata": {},
   "outputs": [],
   "source": [
    "# login\n",
    "driver.find_element(By.XPATH, '/html/body/div/form/input[1]').send_keys('username')\n",
    "driver.find_element(By.XPATH, '/html/body/div/form/input[2]').send_keys('password')\n",
    "driver.find_element(By.XPATH, '/html/body/div/form/button').click()"
   ]
  },
  {
   "cell_type": "code",
   "execution_count": 13,
   "metadata": {},
   "outputs": [],
   "source": [
    "# emissão da nota\n",
    "driver.find_element(By.NAME, 'nome').send_keys('nome')\n",
    "driver.find_element(By.NAME, 'endereco').send_keys('endereco')\n",
    "driver.find_element(By.NAME, 'bairro').send_keys('bairro')\n",
    "driver.find_element(By.NAME, 'municipio').send_keys('municipio')\n",
    "driver.find_element(By.NAME, 'cep').send_keys('cep')\n",
    "driver.find_element(By.NAME, 'uf').send_keys('SP')\n",
    "driver.find_element(By.NAME, 'cnpj').send_keys('cnpj')\n",
    "driver.find_element(By.NAME, 'inscricao').send_keys('inscricao')\n",
    "driver.find_element(By.NAME, 'descricao').send_keys('descricao')\n",
    "driver.find_element(By.NAME, 'quantidade').send_keys('1')\n",
    "driver.find_element(By.NAME, 'valor_unitario').send_keys('1')\n",
    "driver.find_element(By.NAME, 'total').send_keys('1')\n",
    "driver.find_element(By.CLASS_NAME, 'registerbtn').click()"
   ]
  },
  {
   "cell_type": "code",
   "execution_count": 14,
   "metadata": {},
   "outputs": [],
   "source": [
    "driver.quit()"
   ]
  }
 ],
 "metadata": {
  "kernelspec": {
   "display_name": ".venv",
   "language": "python",
   "name": "python3"
  },
  "language_info": {
   "codemirror_mode": {
    "name": "ipython",
    "version": 3
   },
   "file_extension": ".py",
   "mimetype": "text/x-python",
   "name": "python",
   "nbconvert_exporter": "python",
   "pygments_lexer": "ipython3",
   "version": "3.9.6"
  },
  "orig_nbformat": 4
 },
 "nbformat": 4,
 "nbformat_minor": 2
}
