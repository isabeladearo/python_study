{
 "cells": [
  {
   "cell_type": "code",
   "execution_count": 87,
   "metadata": {},
   "outputs": [],
   "source": [
    "from selenium import webdriver\n",
    "from selenium.webdriver.common.by import By\n",
    "import os\n",
    "\n",
    "driver = webdriver.Chrome()\n",
    "\n",
    "path = os.getcwd()\n",
    "file = 'formulario.html'\n",
    "\n",
    "url = f'File://{path}/{file}'\n",
    "\n",
    "driver.get(url)"
   ]
  },
  {
   "cell_type": "code",
   "execution_count": 23,
   "metadata": {},
   "outputs": [],
   "source": [
    "# Botão de alerta\n",
    "driver.get(url)\n",
    "\n",
    "driver.find_element(By.XPATH, '/html/body/form/input[1]').click()\n",
    "alert = driver.switch_to.alert\n",
    "alert.accept()"
   ]
  },
  {
   "cell_type": "code",
   "execution_count": 33,
   "metadata": {},
   "outputs": [
    {
     "data": {
      "text/plain": [
       "True"
      ]
     },
     "execution_count": 33,
     "metadata": {},
     "output_type": "execute_result"
    }
   ],
   "source": [
    "# Botão checkbox\n",
    "driver.get(url)\n",
    "\n",
    "driver.find_element(By.XPATH, '/html/body/form/input[2]').click()\n",
    "is_selected = driver.find_element(By.XPATH, '/html/body/form/input[2]').is_selected()\n",
    "\n",
    "is_selected"
   ]
  },
  {
   "cell_type": "code",
   "execution_count": 38,
   "metadata": {},
   "outputs": [
    {
     "data": {
      "text/plain": [
       "'Lalaland'"
      ]
     },
     "execution_count": 38,
     "metadata": {},
     "output_type": "execute_result"
    }
   ],
   "source": [
    "# Caixa de texto\n",
    "driver.get(url)\n",
    "\n",
    "driver.find_element(By.XPATH, '/html/body/form/input[16]').send_keys('Lalaland')\n",
    "text = driver.find_element(By.XPATH, '/html/body/form/input[16]').get_attribute('value')\n",
    "\n",
    "text"
   ]
  },
  {
   "cell_type": "code",
   "execution_count": 45,
   "metadata": {},
   "outputs": [
    {
     "data": {
      "text/plain": [
       "'#1ce70d'"
      ]
     },
     "execution_count": 45,
     "metadata": {},
     "output_type": "execute_result"
    }
   ],
   "source": [
    "# Botão seleção de cores\n",
    "driver.get(url)\n",
    "\n",
    "driver.find_element(By.XPATH, '/html/body/form/input[4]').send_keys('#1CE70D')\n",
    "colour = driver.find_element(By.XPATH, '/html/body/form/input[4]').get_attribute('value')\n",
    "\n",
    "colour"
   ]
  },
  {
   "cell_type": "code",
   "execution_count": 51,
   "metadata": {},
   "outputs": [
    {
     "data": {
      "text/plain": [
       "'2001-06-21'"
      ]
     },
     "execution_count": 51,
     "metadata": {},
     "output_type": "execute_result"
    }
   ],
   "source": [
    "# Seleção de data\n",
    "driver.get(url)\n",
    "\n",
    "driver.find_element(By.XPATH, '/html/body/form/input[6]').send_keys('21/06/2001')\n",
    "birthday_date = driver.find_element(By.XPATH, '/html/body/form/input[6]').get_attribute('value')\n",
    "\n",
    "birthday_date"
   ]
  },
  {
   "cell_type": "code",
   "execution_count": 67,
   "metadata": {},
   "outputs": [
    {
     "data": {
      "text/plain": [
       "'2006-08-13T14:56'"
      ]
     },
     "execution_count": 67,
     "metadata": {},
     "output_type": "execute_result"
    }
   ],
   "source": [
    "# Seleção de data e horário\n",
    "driver.get(url)\n",
    "\n",
    "from selenium.webdriver.common.keys import Keys\n",
    "\n",
    "driver.find_element(By.XPATH, '/html/body/form/input[7]').send_keys('13/08/2006', Keys.TAB, '14:56')\n",
    "datetime = driver.find_element(By.XPATH, '/html/body/form/input[7]').get_attribute('value')\n",
    "\n",
    "datetime"
   ]
  },
  {
   "cell_type": "code",
   "execution_count": 71,
   "metadata": {},
   "outputs": [
    {
     "data": {
      "text/plain": [
       "'C:\\\\fakepath\\\\pagina_hashtag.html'"
      ]
     },
     "execution_count": 71,
     "metadata": {},
     "output_type": "execute_result"
    }
   ],
   "source": [
    "# Botão para selecionar arquivo\n",
    "driver.get(url)\n",
    "\n",
    "driver.find_element(By.XPATH, '/html/body/form/input[8]').send_keys(f'{path}/pagina_hashtag.html')\n",
    "file = driver.find_element(By.XPATH, '/html/body/form/input[8]').get_attribute('value')\n",
    "\n",
    "file"
   ]
  },
  {
   "cell_type": "code",
   "execution_count": 75,
   "metadata": {},
   "outputs": [
    {
     "data": {
      "text/plain": [
       "'2017-07'"
      ]
     },
     "execution_count": 75,
     "metadata": {},
     "output_type": "execute_result"
    }
   ],
   "source": [
    "# Seleção de mês e ano\n",
    "driver.get(url)\n",
    "\n",
    "driver.find_element(By.XPATH, '/html/body/form/input[9]').send_keys('July', Keys.TAB, '2017')\n",
    "date = driver.find_element(By.XPATH, '/html/body/form/input[9]').get_attribute('value')\n",
    "\n",
    "date"
   ]
  },
  {
   "cell_type": "code",
   "execution_count": 76,
   "metadata": {},
   "outputs": [],
   "source": [
    "# Campo numérico\n",
    "driver.get(url)\n",
    "\n",
    "driver.find_element(By.XPATH, '/html/body/form/input[10]').send_keys('123456')"
   ]
  },
  {
   "cell_type": "code",
   "execution_count": 78,
   "metadata": {},
   "outputs": [
    {
     "data": {
      "text/plain": [
       "True"
      ]
     },
     "execution_count": 78,
     "metadata": {},
     "output_type": "execute_result"
    }
   ],
   "source": [
    "# Selecionar radio button\n",
    "driver.get(url)\n",
    "\n",
    "driver.find_element(By.XPATH, '/html/body/form/input[14]').click()\n",
    "is_selected = driver.find_element(By.XPATH, '/html/body/form/input[14]').is_selected()\n",
    "\n",
    "is_selected"
   ]
  },
  {
   "cell_type": "code",
   "execution_count": 79,
   "metadata": {},
   "outputs": [
    {
     "data": {
      "text/plain": [
       "'17:05'"
      ]
     },
     "execution_count": 79,
     "metadata": {},
     "output_type": "execute_result"
    }
   ],
   "source": [
    "# Seleção de horário\n",
    "driver.get(url)\n",
    "\n",
    "driver.find_element(By.XPATH, '/html/body/form/input[17]').send_keys('17', Keys.SEPARATOR, '05')\n",
    "hour = driver.find_element(By.XPATH, '/html/body/form/input[17]').get_attribute('value')\n",
    "\n",
    "hour"
   ]
  },
  {
   "cell_type": "code",
   "execution_count": 80,
   "metadata": {},
   "outputs": [
    {
     "data": {
      "text/plain": [
       "'Hello, world!'"
      ]
     },
     "execution_count": 80,
     "metadata": {},
     "output_type": "execute_result"
    }
   ],
   "source": [
    "# Caixa de texto\n",
    "driver.get(url)\n",
    "\n",
    "driver.find_element(By.XPATH, '//*[@id=\"story\"]').send_keys('Hello,', Keys.SPACE, 'world!')\n",
    "text = driver.find_element(By.XPATH, '//*[@id=\"story\"]').get_attribute('value')\n",
    "\n",
    "text"
   ]
  },
  {
   "cell_type": "code",
   "execution_count": 84,
   "metadata": {},
   "outputs": [
    {
     "data": {
      "text/plain": [
       "'90'"
      ]
     },
     "execution_count": 84,
     "metadata": {},
     "output_type": "execute_result"
    }
   ],
   "source": [
    "# Slider\n",
    "driver.get(url)\n",
    "\n",
    "for i in range(90-50):\n",
    "    driver.find_element(By.XPATH, '/html/body/form/input[15]').send_keys(Keys.ARROW_RIGHT)\n",
    "\n",
    "value = driver.find_element(By.XPATH, '/html/body/form/input[15]').get_attribute('value')\n",
    "\n",
    "value"
   ]
  },
  {
   "cell_type": "code",
   "execution_count": 90,
   "metadata": {},
   "outputs": [
    {
     "data": {
      "text/plain": [
       "'b'"
      ]
     },
     "execution_count": 90,
     "metadata": {},
     "output_type": "execute_result"
    }
   ],
   "source": [
    "# Dropdown\n",
    "driver.get(url)\n",
    "\n",
    "import time\n",
    "\n",
    "driver.find_element(By.XPATH, '/html/body/form/select[1]').click()\n",
    "time.sleep(0.5)\n",
    "driver.find_element(By.XPATH, '/html/body/form/select[1]/option[2]').click()\n",
    "value = driver.find_element(By.XPATH, '/html/body/form/select[1]').get_attribute('value')\n",
    "\n",
    "value"
   ]
  },
  {
   "cell_type": "code",
   "execution_count": 94,
   "metadata": {},
   "outputs": [],
   "source": [
    "# Usando Select do Selenium para dropdown\n",
    "driver.get(url)\n",
    "\n",
    "from selenium.webdriver.support.select import Select\n",
    "\n",
    "element = driver.find_element(By.TAG_NAME, 'select')\n",
    "element_select = Select(element)\n",
    "\n",
    "# element_select.select_by_index(2)\n",
    "# element_select.select_by_value('b')\n",
    "element_select.select_by_visible_text('C')\n",
    "\n",
    "# Documentação: https://selenium-python.readthedocs.io/api.html?highlight=send_keys#module-selenium.webdriver.support.select"
   ]
  },
  {
   "cell_type": "code",
   "execution_count": 95,
   "metadata": {},
   "outputs": [],
   "source": [
    "driver.quit()"
   ]
  }
 ],
 "metadata": {
  "kernelspec": {
   "display_name": ".venv",
   "language": "python",
   "name": "python3"
  },
  "language_info": {
   "codemirror_mode": {
    "name": "ipython",
    "version": 3
   },
   "file_extension": ".py",
   "mimetype": "text/x-python",
   "name": "python",
   "nbconvert_exporter": "python",
   "pygments_lexer": "ipython3",
   "version": "3.9.6"
  },
  "orig_nbformat": 4
 },
 "nbformat": 4,
 "nbformat_minor": 2
}
