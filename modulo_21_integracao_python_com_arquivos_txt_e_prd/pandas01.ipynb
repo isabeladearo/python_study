{
 "cells": [
  {
   "cell_type": "code",
   "execution_count": 14,
   "metadata": {},
   "outputs": [],
   "source": [
    "arquivo = open('Alunos.txt', 'r')\n",
    "\n",
    "linhas = arquivo.readlines()\n",
    "\n",
    "del linhas[:4]\n",
    "\n",
    "qtde_anuncio = 0\n",
    "qtde_org = 0\n",
    "qtde_yt_org = 0\n",
    "qtde_igfb_org = 0\n",
    "qtde_site_org = 0\n",
    "\n",
    "\n",
    "def encontrar_origem(origem):\n",
    "    global qtde_org, qtde_yt_org, qtde_igfb_org, qtde_site_org\n",
    "    if 'org' in origem:\n",
    "        qtde_org += 1\n",
    "        if 'yt' in origem:\n",
    "            qtde_yt_org += 1\n",
    "        if 'igfb' in origem or 'ig' in origem:\n",
    "            qtde_igfb_org += 1\n",
    "        if 'site' in origem:\n",
    "            qtde_site_org += 1\n",
    "    else:\n",
    "        global qtde_anuncio\n",
    "        qtde_anuncio += 1\n",
    "\n",
    "\n",
    "for linha in linhas:\n",
    "    email, origem = linha.split(',')\n",
    "    encontrar_origem(origem)\n",
    "\n",
    "\n",
    "arquivo.close()\n",
    "\n",
    "\n",
    "with open('Indicadores.txt', 'w') as arq:\n",
    "    arq.write(f'Qtde anúncio: {qtde_anuncio}\\n')\n",
    "    arq.write(f'Qtde orgânico: {qtde_org}\\n')\n",
    "    arq.write(f'Qtde orgânico Youtube: {qtde_yt_org}\\n')\n",
    "    arq.write(f'Qtde orgânico Site: {qtde_site_org}\\n')\n",
    "    arq.write(f'Qtde orgânico Instagram ou Facebook: {qtde_igfb_org}\\n')"
   ]
  }
 ],
 "metadata": {
  "kernelspec": {
   "display_name": ".venv",
   "language": "python",
   "name": "python3"
  },
  "language_info": {
   "codemirror_mode": {
    "name": "ipython",
    "version": 3
   },
   "file_extension": ".py",
   "mimetype": "text/x-python",
   "name": "python",
   "nbconvert_exporter": "python",
   "pygments_lexer": "ipython3",
   "version": "3.9.6"
  },
  "orig_nbformat": 4
 },
 "nbformat": 4,
 "nbformat_minor": 2
}
